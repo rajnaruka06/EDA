{
 "cells": [
  {
   "cell_type": "code",
   "execution_count": 1,
   "metadata": {},
   "outputs": [],
   "source": [
    "import numpy as np\n",
    "import seaborn as sns\n",
    "import pandas as pd\n",
    "pd.set_option('display.max_columns',50)\n",
    "from sklearn.metrics import f1_score\n",
    "import matplotlib.pyplot as plt\n",
    "from sklearn.feature_selection import RFE\n",
    "from sklearn.model_selection import train_test_split\n"
   ]
  },
  {
   "cell_type": "code",
   "execution_count": 2,
   "metadata": {},
   "outputs": [],
   "source": [
    "train = pd.read_csv(\"../input/predict-the-churn-for-customer-dataset/Train File.csv\")\n",
    "test = pd.read_csv(\"../input/predict-the-churn-for-customer-dataset/Test File.csv\")"
   ]
  },
  {
   "cell_type": "code",
   "execution_count": 3,
   "metadata": {},
   "outputs": [
    {
     "name": "stdout",
     "output_type": "stream",
     "text": [
      "<class 'pandas.core.frame.DataFrame'>\n",
      "RangeIndex: 4224 entries, 0 to 4223\n",
      "Data columns (total 21 columns):\n",
      "customerID          4224 non-null object\n",
      "gender              4224 non-null object\n",
      "SeniorCitizen       4224 non-null int64\n",
      "Partner             4224 non-null object\n",
      "Dependents          4224 non-null object\n",
      "tenure              4224 non-null int64\n",
      "PhoneService        4224 non-null object\n",
      "MultipleLines       4224 non-null object\n",
      "InternetService     4224 non-null object\n",
      "OnlineSecurity      4224 non-null object\n",
      "OnlineBackup        4224 non-null object\n",
      "DeviceProtection    4224 non-null object\n",
      "TechSupport         4224 non-null object\n",
      "StreamingTV         4224 non-null object\n",
      "StreamingMovies     4224 non-null object\n",
      "Contract            4224 non-null object\n",
      "PaperlessBilling    4224 non-null object\n",
      "PaymentMethod       4224 non-null object\n",
      "MonthlyCharges      4224 non-null float64\n",
      "TotalCharges        4217 non-null float64\n",
      "Churn               4224 non-null object\n",
      "dtypes: float64(2), int64(2), object(17)\n",
      "memory usage: 693.1+ KB\n"
     ]
    }
   ],
   "source": [
    "train.info()"
   ]
  },
  {
   "cell_type": "code",
   "execution_count": 4,
   "metadata": {},
   "outputs": [
    {
     "data": {
      "text/plain": [
       "customerID          0\n",
       "gender              0\n",
       "SeniorCitizen       0\n",
       "Partner             0\n",
       "Dependents          0\n",
       "tenure              0\n",
       "PhoneService        0\n",
       "MultipleLines       0\n",
       "InternetService     0\n",
       "OnlineSecurity      0\n",
       "OnlineBackup        0\n",
       "DeviceProtection    0\n",
       "TechSupport         0\n",
       "StreamingTV         0\n",
       "StreamingMovies     0\n",
       "Contract            0\n",
       "PaperlessBilling    0\n",
       "PaymentMethod       0\n",
       "MonthlyCharges      0\n",
       "TotalCharges        7\n",
       "Churn               0\n",
       "dtype: int64"
      ]
     },
     "execution_count": 4,
     "metadata": {},
     "output_type": "execute_result"
    }
   ],
   "source": [
    "train.isnull().sum()"
   ]
  },
  {
   "cell_type": "code",
   "execution_count": 5,
   "metadata": {},
   "outputs": [
    {
     "data": {
      "text/plain": [
       "<matplotlib.axes._subplots.AxesSubplot at 0x7fabb97647f0>"
      ]
     },
     "execution_count": 5,
     "metadata": {},
     "output_type": "execute_result"
    },
    {
     "data": {
      "image/png": "[encoded data removed]",
      "text/plain": [
       "<Figure size 432x288 with 1 Axes>"
      ]
     },
     "metadata": {
      "needs_background": "light"
     },
     "output_type": "display_data"
    }
   ],
   "source": [
    "sns.distplot(train['TotalCharges'].dropna())"
   ]
  },
  {
   "cell_type": "code",
   "execution_count": 6,
   "metadata": {},
   "outputs": [],
   "source": [
    "train.fillna(train['TotalCharges'].median(), inplace=True)\n",
    "test.fillna(train['TotalCharges'].median(), inplace=True)"
   ]
  },
  {
   "cell_type": "code",
   "execution_count": 7,
   "metadata": {},
   "outputs": [
    {
     "name": "stdout",
     "output_type": "stream",
     "text": [
      "customerID  :\n",
      "3956-CJUST    1\n",
      "3643-AHCFP    1\n",
      "7274-CGTOD    1\n",
      "0268-QKIWO    1\n",
      "0999-QXNSA    1\n",
      "             ..\n",
      "8788-DOXSU    1\n",
      "2929-ERCFZ    1\n",
      "1474-JUWSM    1\n",
      "9959-WOFKT    1\n",
      "8715-KKTFG    1\n",
      "Name: customerID, Length: 4224, dtype: int64\n",
      "gender  :\n",
      "Male      2153\n",
      "Female    2071\n",
      "Name: gender, dtype: int64\n",
      "SeniorCitizen  :\n",
      "0    3553\n",
      "1     671\n",
      "Name: SeniorCitizen, dtype: int64\n",
      "Partner  :\n",
      "No     2197\n",
      "Yes    2027\n",
      "Name: Partner, dtype: int64\n",
      "Dependents  :\n",
      "No     2960\n",
      "Yes    1264\n",
      "Name: Dependents, dtype: int64\n",
      "tenure  :\n",
      "1     371\n",
      "72    227\n",
      "2     152\n",
      "3     118\n",
      "4     111\n",
      "     ... \n",
      "38     32\n",
      "36     29\n",
      "39     29\n",
      "44     26\n",
      "0       7\n",
      "Name: tenure, Length: 73, dtype: int64\n",
      "PhoneService  :\n",
      "Yes    3830\n",
      "No      394\n",
      "Name: PhoneService, dtype: int64\n",
      "MultipleLines  :\n",
      "No                  2029\n",
      "Yes                 1801\n",
      "No phone service     394\n",
      "Name: MultipleLines, dtype: int64\n",
      "InternetService  :\n",
      "Fiber optic    1852\n",
      "DSL            1451\n",
      "No              921\n",
      "Name: InternetService, dtype: int64\n",
      "OnlineSecurity  :\n",
      "No                     2100\n",
      "Yes                    1203\n",
      "No internet service     921\n",
      "Name: OnlineSecurity, dtype: int64\n",
      "OnlineBackup  :\n",
      "No                     1862\n",
      "Yes                    1441\n",
      "No internet service     921\n",
      "Name: OnlineBackup, dtype: int64\n",
      "DeviceProtection  :\n",
      "No                     1851\n",
      "Yes                    1452\n",
      "No internet service     921\n",
      "Name: DeviceProtection, dtype: int64\n",
      "TechSupport  :\n",
      "No                     2097\n",
      "Yes                    1206\n",
      "No internet service     921\n",
      "Name: TechSupport, dtype: int64\n",
      "StreamingTV  :\n",
      "No                     1687\n",
      "Yes                    1616\n",
      "No internet service     921\n",
      "Name: StreamingTV, dtype: int64\n",
      "StreamingMovies  :\n",
      "Yes                    1663\n",
      "No                     1640\n",
      "No internet service     921\n",
      "Name: StreamingMovies, dtype: int64\n",
      "Contract  :\n",
      "Month-to-month    2334\n",
      "Two year          1011\n",
      "One year           879\n",
      "Name: Contract, dtype: int64\n",
      "PaperlessBilling  :\n",
      "Yes    2485\n",
      "No     1739\n",
      "Name: PaperlessBilling, dtype: int64\n",
      "PaymentMethod  :\n",
      "Electronic check             1419\n",
      "Mailed check                  962\n",
      "Bank transfer (automatic)     930\n",
      "Credit card (automatic)       913\n",
      "Name: PaymentMethod, dtype: int64\n",
      "MonthlyCharges  :\n",
      "20.05     33\n",
      "19.85     29\n",
      "19.95     27\n",
      "20.25     27\n",
      "19.65     26\n",
      "          ..\n",
      "102.00     1\n",
      "31.00      1\n",
      "43.25      1\n",
      "116.00     1\n",
      "108.00     1\n",
      "Name: MonthlyCharges, Length: 1362, dtype: int64\n",
      "TotalCharges  :\n",
      "1382.90    8\n",
      "20.20      6\n",
      "45.30      5\n",
      "19.75      5\n",
      "20.45      5\n",
      "          ..\n",
      "3775.85    1\n",
      "1677.85    1\n",
      "604.70     1\n",
      "3645.50    1\n",
      "97.00      1\n",
      "Name: TotalCharges, Length: 4017, dtype: int64\n",
      "Churn  :\n",
      "No     3118\n",
      "Yes    1106\n",
      "Name: Churn, dtype: int64\n"
     ]
    }
   ],
   "source": [
    "for i in train.columns :\n",
    "    print(i,' :')\n",
    "    print(train[i].value_counts())"
   ]
  },
  {
   "cell_type": "code",
   "execution_count": 8,
   "metadata": {},
   "outputs": [],
   "source": [
    "train['gender'] = train['gender'].map({'Female':0, 'Male':1})\n",
    "test['gender'] = test['gender'].map({'Female':0, 'Male':1})\n",
    "\n",
    "train['Partner'] = train['Partner'].map({'Yes':1,'No':0})\n",
    "test['Partner'] = test['Partner'].map({'Yes':1,'No':0})\n",
    "\n",
    "train['Dependents'] = train['Dependents'].map({'Yes':1,'No':0})\n",
    "test['Dependents'] = test['Dependents'].map({'Yes':1,'No':0})\n",
    "\n",
    "train['PhoneService'] = train['PhoneService'].map({'Yes':1,'No':0})\n",
    "test['PhoneService'] = test['PhoneService'].map({'Yes':1,'No':0})\n",
    "\n",
    "train['MultipleLines'] = train['MultipleLines'].map({'Yes':1,'No':0, 'No phone service':0})\n",
    "test['MultipleLines'] = test['MultipleLines'].map({'Yes':1,'No':0, 'No phone service':0})\n",
    "\n",
    "train['OnlineSecurity'] = train['OnlineSecurity'].map({'Yes':1,'No':0, 'No internet service':0})\n",
    "test['OnlineSecurity'] = test['OnlineSecurity'].map({'Yes':1,'No':0, 'No internet service':0})\n",
    "\n",
    "train['OnlineBackup'] = train['OnlineBackup'].map({'Yes':1,'No':0, 'No internet service':0})\n",
    "test['OnlineBackup'] = test['OnlineBackup'].map({'Yes':1,'No':0, 'No internet service':0})\n",
    "\n",
    "train['DeviceProtection'] = train['DeviceProtection'].map({'Yes':1,'No':0, 'No internet service':0})\n",
    "test['DeviceProtection'] = test['DeviceProtection'].map({'Yes':1,'No':0, 'No internet service':0})\n",
    "\n",
    "train['TechSupport'] = train['TechSupport'].map({'Yes':1,'No':0, 'No internet service':0})\n",
    "test['TechSupport'] = test['TechSupport'].map({'Yes':1,'No':0, 'No internet service':0})\n",
    "\n",
    "train['StreamingTV'] = train['StreamingTV'].map({'Yes':1,'No':0, 'No internet service':0})\n",
    "test['StreamingTV'] = test['StreamingTV'].map({'Yes':1,'No':0, 'No internet service':0})\n",
    "\n",
    "train['StreamingMovies'] = train['StreamingMovies'].map({'Yes':1,'No':0, 'No internet service':0})\n",
    "test['StreamingMovies'] = test['StreamingMovies'].map({'Yes':1,'No':0, 'No internet service':0})\n",
    "\n",
    "train['PaperlessBilling'] = train['PaperlessBilling'].map({'Yes':1,'No':0})\n",
    "test['PaperlessBilling'] = test['PaperlessBilling'].map({'Yes':1,'No':0})\n",
    "\n",
    "train['Churn'] = train['Churn'].map({'Yes':1,'No':0})"
   ]
  },
  {
   "cell_type": "code",
   "execution_count": 9,
   "metadata": {},
   "outputs": [],
   "source": [
    "train.drop('customerID', axis=1, inplace=True)\n",
    "ans_id = test['customerID']\n",
    "test.drop('customerID', axis=1, inplace=True)"
   ]
  },
  {
   "cell_type": "code",
   "execution_count": 10,
   "metadata": {},
   "outputs": [],
   "source": [
    "train = pd.get_dummies(train)\n",
    "test = pd.get_dummies(test)"
   ]
  },
  {
   "cell_type": "code",
   "execution_count": 11,
   "metadata": {},
   "outputs": [],
   "source": [
    "x = train.drop('Churn', axis=1)\n",
    "y = train['Churn'].values"
   ]
  },
  {
   "cell_type": "code",
   "execution_count": 12,
   "metadata": {},
   "outputs": [],
   "source": [
    "from sklearn.preprocessing import MinMaxScaler\n",
    "scaler = MinMaxScaler()\n",
    "x = scaler.fit_transform(x)\n",
    "test = scaler.transform(test)"
   ]
  },
  {
   "cell_type": "code",
   "execution_count": 13,
   "metadata": {},
   "outputs": [],
   "source": [
    "from xgboost import XGBClassifier\n",
    "\n",
    "xgb = XGBClassifier(n_estimators=1000, learning_rate=0.01)\n"
   ]
  },
  {
   "cell_type": "code",
   "execution_count": 14,
   "metadata": {},
   "outputs": [],
   "source": [
    "from sklearn.feature_selection import RFE\n",
    "rfe = RFE(xgb, 10)\n",
    "rfe.fit(x,y)\n",
    "x = x[:,rfe.get_support()]\n",
    "test = test[:,rfe.get_support()]"
   ]
  },
  {
   "cell_type": "code",
   "execution_count": 15,
   "metadata": {},
   "outputs": [
    {
     "data": {
      "text/plain": [
       "0.8087121212121212"
      ]
     },
     "execution_count": 15,
     "metadata": {},
     "output_type": "execute_result"
    }
   ],
   "source": [
    "xgb.fit(x,y)\n",
    "xgb.score(x,y)"
   ]
  },
  {
   "cell_type": "code",
   "execution_count": 16,
   "metadata": {},
   "outputs": [],
   "source": [
    "ans=xgb.predict(test)"
   ]
  },
  {
   "cell_type": "code",
   "execution_count": 17,
   "metadata": {},
   "outputs": [],
   "source": [
    "ans = pd.DataFrame(ans, columns=['Churn'])"
   ]
  },
  {
   "cell_type": "code",
   "execution_count": 18,
   "metadata": {},
   "outputs": [],
   "source": [
    "ans['customerID'] = ans_id"
   ]
  },
  {
   "cell_type": "code",
   "execution_count": 19,
   "metadata": {},
   "outputs": [],
   "source": [
    "ans['Churn'] = ans['Churn'].map({0:'No', 1:'Yes'})"
   ]
  },
  {
   "cell_type": "code",
   "execution_count": 20,
   "metadata": {},
   "outputs": [],
   "source": [
    "ans.set_index('customerID', inplace=True)"
   ]
  },
  {
   "cell_type": "code",
   "execution_count": 21,
   "metadata": {},
   "outputs": [],
   "source": [
    "ans.to_csv('Raj Naruka Submission 1.csv')"
   ]
  },
  {
   "cell_type": "code",
   "execution_count": null,
   "metadata": {},
   "outputs": [],
   "source": []
  }
 ],
 "metadata": {
  "kernelspec": {
   "display_name": "Python 3",
   "language": "python",
   "name": "python3"
  },
  "language_info": {
   "codemirror_mode": {
    "name": "ipython",
    "version": 3
   },
   "file_extension": ".py",
   "mimetype": "text/x-python",
   "name": "python",
   "nbconvert_exporter": "python",
   "pygments_lexer": "ipython3",
   "version": "3.6.6"
  }
 },
 "nbformat": 4,
 "nbformat_minor": 1
}
